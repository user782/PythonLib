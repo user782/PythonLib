{
 "cells": [
  {
   "cell_type": "code",
   "execution_count": null,
   "id": "lyric-summer",
   "metadata": {},
   "outputs": [],
   "source": [
    "# include <iostream>\n",
    "using namespace std;\n",
    "cout << \"hello world\";"
   ]
  }
 ],
 "metadata": {
  "kernelspec": {
   "display_name": "C++17",
   "language": "C++17",
   "name": "xcpp17"
  },
  "language_info": {
   "codemirror_mode": "text/x-c++src",
   "file_extension": ".cpp",
   "mimetype": "text/x-c++src",
   "name": "c++",
   "version": "17"
  }
 },
 "nbformat": 4,
 "nbformat_minor": 5
}
