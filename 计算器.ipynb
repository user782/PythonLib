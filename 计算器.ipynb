{
 "cells": [
  {
   "cell_type": "code",
   "execution_count": null,
   "metadata": {},
   "outputs": [],
   "source": [
    "while True:\n",
    "    a = input(\"请输入算式：\")\n",
    "    b = eval(a)\n",
    "    print(b)\n",
    "    c = input(\"换行继续\")\n",
    "#请使用Python运算符：\n",
    "#乘：*    除：/    \n",
    "#加：+    减：-    \n",
    "#乘方（指数）：**   \n",
    "#整除：// 获取余数：% "
   ]
  }
 ],
 "metadata": {
  "kernelspec": {
   "display_name": "Python 3",
   "language": "python",
   "name": "python3"
  },
  "language_info": {
   "codemirror_mode": {
    "name": "ipython",
    "version": 3
   },
   "file_extension": ".py",
   "mimetype": "text/x-python",
   "name": "python",
   "nbconvert_exporter": "python",
   "pygments_lexer": "ipython3",
   "version": "3.9.2"
  }
 },
 "nbformat": 4,
 "nbformat_minor": 4
}
