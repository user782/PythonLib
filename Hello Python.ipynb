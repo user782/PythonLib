{
 "cells": [
  {
   "cell_type": "markdown",
   "metadata": {},
   "source": [
    "## 欢迎来到JupyterLab 3.0.7！\n",
    "在这里，你可以编辑并运行Python、C++代码，并导出文件\n",
    "#### 尝试运行下面代码吧！"
   ]
  },
  {
   "cell_type": "code",
   "execution_count": null,
   "metadata": {},
   "outputs": [],
   "source": [
    "print(\"Hello Python!\")"
   ]
  },
  {
   "cell_type": "markdown",
   "metadata": {},
   "source": [
    "#### 文件基本操作\n",
    "你可以上传本地文件(点击左侧第一个按钮，然后点击⬆按钮即可)\n",
    "点击 + 可新建文件，\n",
    "文件类型："
   ]
  },
  {
   "cell_type": "markdown",
   "metadata": {},
   "source": [
    "(1)Python 3:普通Python Notebook"
   ]
  },
  {
   "cell_type": "markdown",
   "metadata": {},
   "source": [
    "(2)C++11～C++17:C++编辑"
   ]
  },
  {
   "cell_type": "markdown",
   "metadata": {},
   "source": [
    "(3)Python 3.9 (XPython):Python 调试(debug)模式"
   ]
  },
  {
   "cell_type": "markdown",
   "metadata": {},
   "source": [
    "(4)Terminal:终端"
   ]
  },
  {
   "cell_type": "markdown",
   "metadata": {},
   "source": [
    "(5)Diagram:制作流程图"
   ]
  },
  {
   "cell_type": "markdown",
   "metadata": {},
   "source": [
    "(6)Python File:创建.py文件"
   ]
  },
  {
   "cell_type": "markdown",
   "metadata": {},
   "source": [
    "(7)Text File:创建.txt文件"
   ]
  },
  {
   "cell_type": "markdown",
   "metadata": {},
   "source": [
    "(8)Markdown File:创建.md（markdown）文件"
   ]
  },
  {
   "cell_type": "markdown",
   "metadata": {},
   "source": [
    "(9)Show Contextual Help:显示Python帮助"
   ]
  },
  {
   "cell_type": "markdown",
   "metadata": {},
   "source": [
    "#### Python操作文件\n",
    "##### 可以使用Python代码写入文件，如："
   ]
  },
  {
   "cell_type": "code",
   "execution_count": null,
   "metadata": {},
   "outputs": [],
   "source": [
    "with open(\"New.txt\",\"w\")as f:\n",
    "    f.write(\"Hi!\")"
   ]
  },
  {
   "cell_type": "markdown",
   "metadata": {},
   "source": [
    "##### 当然，也可以重命名文件，如："
   ]
  },
  {
   "cell_type": "code",
   "execution_count": null,
   "metadata": {},
   "outputs": [],
   "source": [
    "import os\n",
    "os.rename(\"New.txt\",\"Python.txt\")"
   ]
  },
  {
   "cell_type": "markdown",
   "metadata": {},
   "source": [
    "##### 删除文件："
   ]
  },
  {
   "cell_type": "code",
   "execution_count": null,
   "metadata": {},
   "outputs": [],
   "source": [
    "import os\n",
    "os.remove(\"Python.txt\")"
   ]
  },
  {
   "cell_type": "markdown",
   "metadata": {},
   "source": [
    "#### File常用功能\n",
    "点击\"File\"按钮，在点击\"Export Notebook As...\"即可把文件下载为自己喜欢的格式(某些格式需要下载插件，且此功能仅路径2可使用)，点击\"Download\"会下载普通的.ipynb文件，\"Rename Notebook...\"可以重命名文件"
   ]
  },
  {
   "cell_type": "markdown",
   "metadata": {},
   "source": [
    "#### Settings常用功能\n",
    "点击\"Settings\"，再点击\"Language\"即可更改语言(语言包来自文件\"jupyterlab_language_pack_zh_CN-0.0.1.dev0-py2.py3-none-any.whl\"，可自行导出，输入pip install 文件名即可安装)，点击\"JupyterLab Theme\"即可切换样式，\"Text Editor Theme\"可以切换编辑文本时的样式"
   ]
  },
  {
   "cell_type": "markdown",
   "metadata": {},
   "source": [
    "#### 代码补全功能：\n",
    "点击\"settings\"，再点击\"Advanced Settings Editor\"，找到\"Code Completion\"，在\"User Preferences\"中输入以下代码:\n",
    "```json\n",
    "{\n",
    "    \"continuousHinting\": true,\n",
    "}\n",
    "```\n",
    "保存后即可完成代码补全"
   ]
  },
  {
   "cell_type": "markdown",
   "metadata": {},
   "source": [
    "#### 下载插件\n",
    "点击左侧第四个按钮，然后点击\"Enable\"后就可以搜索自己想要的插件"
   ]
  }
 ],
 "metadata": {
  "kernelspec": {
   "display_name": "Python 3",
   "language": "python",
   "name": "python3"
  },
  "language_info": {
   "codemirror_mode": {
    "name": "ipython",
    "version": 3
   },
   "file_extension": ".py",
   "mimetype": "text/x-python",
   "name": "python",
   "nbconvert_exporter": "python",
   "pygments_lexer": "ipython3",
   "version": "3.9.2"
  }
 },
 "nbformat": 4,
 "nbformat_minor": 4
}
