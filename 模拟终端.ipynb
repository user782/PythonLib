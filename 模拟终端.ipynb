{
 "cells": [
  {
   "cell_type": "code",
   "execution_count": null,
   "id": "supreme-astronomy",
   "metadata": {},
   "outputs": [],
   "source": [
    "import time,re\n",
    "a = input(\"user782\\PythonLib> \")\n",
    "if a == \"python\":\n",
    "    import traceback\n",
    "    b = \"\"\n",
    "    while True:\n",
    "        a = input(\">>>\")\n",
    "        if a == \"/run\":\n",
    "            try:\n",
    "                print(\"result\")\n",
    "                exec(b)\n",
    "            except Exception as e:\n",
    "                print(traceback.format_exc())\n",
    "        if a == \"/download\":\n",
    "            contin = True\n",
    "            if contin:\n",
    "                if b == \"\":\n",
    "                    print(\"代码为空！\")\n",
    "                    contin = False\n",
    "                if contin:\n",
    "                    e = input(\"请输入文件名:\")\n",
    "                    with open(e,\"w\")as f:\n",
    "                        f.write(b)\n",
    "                    print(\"下载成功！\")\n",
    "        if a == \"/new\":\n",
    "            a = b = \"\"\n",
    "        else:\n",
    "            b += a + \"\\n\"\n",
    "if re.match(\"open%s(\\S)*?\" % \" \",a):\n",
    "    file = a[5:len(a)]\n",
    "    print(\"Loading......\")\n",
    "    time.sleep(1)\n",
    "    if a[len(a)-2:len(a)] != \"-w\":\n",
    "        try:\n",
    "            with open(file)as f:\n",
    "                a = f.read()\n",
    "                print(a)\n",
    "        except FileNotFoundError:\n",
    "            print(\"FileNotFoundError: [Errno 2]No such file or directory: '%s'\" % file)\n",
    "    else:\n",
    "        file = a[5:len(a)-3]\n",
    "        try:\n",
    "            with open(file,\"a\")as f:\n",
    "                print(\"Please write text for the file(Enter \\\"/end\\\" to finish writing)\")\n",
    "                while True:\n",
    "                    a = input(\"\")\n",
    "                    if a == \"/end\":\n",
    "                        break\n",
    "                    else:\n",
    "                        f.write(a + \"\\n\")\n",
    "                print(\"Writing......\")\n",
    "                time.sleep(1)\n",
    "                print(\"Complete!\")\n",
    "        except FileNotFoundError:\n",
    "            print(\"FileNotFoundError: [Errno 2]No such file or directory: '%s'\" % file)"
   ]
  }
 ],
 "metadata": {
  "kernelspec": {
   "display_name": "Python 3",
   "language": "python",
   "name": "python3"
  },
  "language_info": {
   "codemirror_mode": {
    "name": "ipython",
    "version": 3
   },
   "file_extension": ".py",
   "mimetype": "text/x-python",
   "name": "python",
   "nbconvert_exporter": "python",
   "pygments_lexer": "ipython3",
   "version": "3.9.2"
  }
 },
 "nbformat": 4,
 "nbformat_minor": 5
}
