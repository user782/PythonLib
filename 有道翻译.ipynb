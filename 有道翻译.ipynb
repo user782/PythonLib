{
 "cells": [
  {
   "cell_type": "code",
   "execution_count": null,
   "metadata": {},
   "outputs": [],
   "source": [
    "from urllib import request,parse\n",
    "import json,sys,time\n",
    "url = 'http://fanyi.youdao.com/translate?smartresult=dict&smartresult=rule'\n",
    "def printe(text,ode=\"\\n\",sde=\"\\r\"):\n",
    "    sys.stdout.write(ode + \"\" * 60 + sde)\n",
    "    sys.stdout.flush()\n",
    "    for c in text:\n",
    "        sys.stdout.write(c)\n",
    "        sys.stdout.flush()\n",
    "        time.sleep(0.05)\n",
    "def inpute(text,ode=\"\\n\",sde=\"\\r\"):\n",
    "    printe(text,ode,sde)\n",
    "    a = input(\"\")\n",
    "    return a\n",
    "while True:\n",
    "    keyword = inpute(\"请输入需要翻译的内容(直接按回车退出)：\",\"\\n\")\n",
    "    if keyword == '':\n",
    "        printe(\"感谢您使用本款软件，下次再见！\")\n",
    "        printe(\"网易有道翻译 提供翻译技术\")\n",
    "        sys.exit(0)\n",
    "    formdata = {\n",
    "        \"i\":keyword,\n",
    "        \"from\":\"AUTO\",\n",
    "        \"to\":\"AUTO\",\n",
    "        \"smartresult\":\"dict\",\n",
    "        \"client\":\"fanyideskweb\",\n",
    "        \"salt\":\"16129446513132\",\n",
    "        \"sign\":\"ba74294484fdfa7c459c5a8f9f5a4893\",\n",
    "        \"lts\":\"1612944651313\",\n",
    "        \"bv\":\"db6b9693e24ea152843dd96fcd289f0f\",\n",
    "        \"doctype\":\"json\",\n",
    "        \"version\":\"2.1\",\n",
    "        \"keyfrom\":\"fanyi.web\",\n",
    "        \"action\":\"FY_BY_REALTlME\",\n",
    "    }\n",
    "    data = parse.urlencode(formdata).encode(\"utf-8\")\n",
    "    request1 = request.Request(url,data = data)\n",
    "    target = request.urlopen(request1).read().decode(\"utf-8\")\n",
    "    result = json.loads(target)\n",
    "    result = result['translateResult']\n",
    "    result = result.pop(0)\n",
    "    result = result.pop(0)\n",
    "    printe(result['tgt'],\"\",\"\")"
   ]
  }
 ],
 "metadata": {
  "kernelspec": {
   "display_name": "Python 3",
   "language": "python",
   "name": "python3"
  },
  "language_info": {
   "codemirror_mode": {
    "name": "ipython",
    "version": 3
   },
   "file_extension": ".py",
   "mimetype": "text/x-python",
   "name": "python",
   "nbconvert_exporter": "python",
   "pygments_lexer": "ipython3",
   "version": "3.9.2"
  }
 },
 "nbformat": 4,
 "nbformat_minor": 4
}
