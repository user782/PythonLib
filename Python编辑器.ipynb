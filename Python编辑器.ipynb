{
 "cells": [
  {
   "cell_type": "code",
   "execution_count": null,
   "id": "contemporary-upset",
   "metadata": {},
   "outputs": [],
   "source": [
    "#encoding=utf-8\n",
    "import traceback,time\n",
    "b = \"\"\n",
    "a = \"\"\n",
    "while True:\n",
    "    a = input(\">>>\")\n",
    "    if a == \"_run_\":\n",
    "        try:\n",
    "            exec(b)\n",
    "        except Exception as e:\n",
    "            var = traceback.format_exc()\n",
    "            print(var)\n",
    "        finally:\n",
    "            a = \"\"\n",
    "    if a == \"_new_\":\n",
    "        b = a = \"\"\n",
    "    if a == \"_download_\":\n",
    "        filename = input(\"请输入保存文件名：\")\n",
    "        file_ = input(\"请输入存储方式：1.纯文本(.txt)  2.Python File(.py)\")\n",
    "        if file_ == \"1\":\n",
    "            file_ = \".txt\"\n",
    "        if file_ == \"2\":\n",
    "            file_ = \".py\"\n",
    "        with open(filename + file_,\"w\",encoding = 'utf-8')as f:\n",
    "            f.write(b)\n",
    "        print(\"下载完毕！\")\n",
    "        a = \"\"\n",
    "    b += a + \"\\n\""
   ]
  }
 ],
 "metadata": {
  "kernelspec": {
   "display_name": "Python 3",
   "language": "python",
   "name": "python3"
  },
  "language_info": {
   "codemirror_mode": {
    "name": "ipython",
    "version": 3
   },
   "file_extension": ".py",
   "mimetype": "text/x-python",
   "name": "python",
   "nbconvert_exporter": "python",
   "pygments_lexer": "ipython3",
   "version": "3.9.2"
  }
 },
 "nbformat": 4,
 "nbformat_minor": 5
}
